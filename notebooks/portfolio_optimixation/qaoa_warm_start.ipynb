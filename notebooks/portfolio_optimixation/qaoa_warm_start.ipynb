{
 "cells": [
  {
   "cell_type": "markdown",
   "id": "3598e9ee",
   "metadata": {},
   "source": [
    "# 🔥 Warm-Start QAOA for Portfolio Optimization\n",
    "\n",
    "> **Disclaimer**  \n",
    "> This notebook contains adaptations from IBM Qiskit Optimization Tutorials.  \n",
    "> Original tutorial: [Qiskit Optimization – Warm-start QAOA](https://qiskit-community.github.io/qiskit-optimization/tutorials/10_warm_start_qaoa.html)  \n",
    "> Modified by Colin Farley (2025) for benchmarking and research use at HARP Research.\n",
    "\n",
    "---\n",
    "\n",
    "## 🎯 Objective\n",
    "\n",
    "This notebook demonstrates how **warm-started QAOA** can improve convergence and solution quality on a constrained **mean-variance portfolio optimization problem**. Building on the same problem instance used in our previous experiments (CVaR-VQE and plain QAOA), we show how classical relaxations can guide quantum optimization through:\n",
    "\n",
    "- **Custom initial states** based on continuous relaxations\n",
    "- **Mixer Hamiltonians** tailored to preserve feasible subspaces\n",
    "- **Higher sampling probability** of the true optimum\n",
    "\n",
    "Our goal is to evaluate the effectiveness of warm-starting in improving performance over standard QAOA, especially in shallow-depth circuits.\n",
    "\n",
    "---\n",
    "\n",
    "## 📚 References\n",
    "\n",
    "- Egger et al., *Warm-starting quantum optimization*, [arXiv:2009.10095](https://arxiv.org/abs/2009.10095)\n",
    "- Barkoutsos et al., *Improving Variational Quantum Optimization using CVaR*, Quantum 4, 256 (2020)\n",
    "- IBM Qiskit Optimization Warm-Start Tutorial\n",
    "\n",
    "---\n",
    "\n",
    "## 🧪 Experiment Flow\n",
    "\n",
    "1. **Formulate** the portfolio optimization problem (binary QUBO)\n",
    "2. **Relax** the QUBO to a continuous QP\n",
    "3. **Solve** the relaxation classically to obtain a soft solution vector `c*`\n",
    "4. **Construct** a custom initial state + mixer from `c*`\n",
    "5. **Run** Warm-Started QAOA and compare to:\n",
    "   - Plain QAOA\n",
    "   - SamplingVQE (CVaR-based)\n",
    "   - Classical baseline\n",
    "\n",
    "---\n",
    "\n",
    "## 🧠 Why This Matters\n",
    "\n",
    "Standard QAOA struggles with low-depth circuits, often producing flat quantum states with low overlap with the optimal solution. Warm-starting helps:\n",
    "- Guide the optimizer toward promising regions\n",
    "- Reduce the search space\n",
    "- Improve the sampling probability of good solutions\n",
    "\n",
    "---\n"
   ]
  },
  {
   "cell_type": "markdown",
   "id": "5d3384c8",
   "metadata": {},
   "source": [
    "# Problem Formulation\n",
    "\n",
    "We will be using the same data and set up from the **sampling_vqe_cvar**, **qaoa_portfolio.ipynb** examples that are used in both qiskit_optimization and Barkoutsos et al."
   ]
  },
  {
   "cell_type": "code",
   "execution_count": 1,
   "id": "51008e74",
   "metadata": {},
   "outputs": [
    {
     "name": "stdout",
     "output_type": "stream",
     "text": [
      "Problem name: portfolio_optimization\n",
      "\n",
      "Maximize\n",
      "  -0.3656*x_0^2 + 0.6233*x_0*x_1 - 0.4689*x_0*x_2 + 0.5452*x_0*x_3\n",
      "  + 0.0082*x_0*x_4 + 0.3809*x_0*x_5 - 1.2366*x_1^2 + 0.7538*x_1*x_2\n",
      "  - 2.4659*x_1*x_3 + 0.0733*x_1*x_4 - 0.8945*x_1*x_5 - 0.57715*x_2^2\n",
      "  + 1.4095*x_2*x_3 - 0.0007*x_2*x_4 + 0.4301*x_2*x_5 - 1.75335*x_3^2\n",
      "  - 0.2012*x_3*x_4 - 1.0922*x_3*x_5 - 0.31155*x_4^2 - 0.1509*x_4*x_5\n",
      "  - 0.4496*x_5^2 + 0.7313*x_0 + 0.9893*x_1 + 0.2725*x_2 + 0.875*x_3 + 0.7667*x_4\n",
      "  + 0.3622*x_5\n",
      "\n",
      "Subject to\n",
      "  Linear constraints (1)\n",
      "    x_0 + x_1 + x_2 + x_3 + x_4 + x_5 == 3  'c0'\n",
      "\n",
      "  Binary variables (6)\n",
      "    x_0 x_1 x_2 x_3 x_4 x_5\n",
      "\n"
     ]
    }
   ],
   "source": [
    "from experiments.cvar_portfolio.data_utils import load_default_portfolio\n",
    "from experiments.cvar_portfolio.objective_portfolio import portfolio_to_qp\n",
    "\n",
    "mu, sigma = load_default_portfolio()\n",
    "qp = portfolio_to_qp(mu, sigma, 0.5)\n",
    "print(qp.prettyprint())"
   ]
  },
  {
   "cell_type": "markdown",
   "id": "46e36b76",
   "metadata": {},
   "source": [
    "# Solve Classically\n",
    "\n",
    "We will classically solve the problem in order to establish a correct baseline"
   ]
  },
  {
   "cell_type": "code",
   "execution_count": 2,
   "id": "127a00c6",
   "metadata": {},
   "outputs": [
    {
     "name": "stdout",
     "output_type": "stream",
     "text": [
      "objective function value: 1.27835\n",
      "variable values: x_0=1.0, x_1=1.0, x_2=0.0, x_3=0.0, x_4=1.0, x_5=0.0\n",
      "status: SUCCESS\n"
     ]
    }
   ],
   "source": [
    "from experiments.cvar_portfolio.objective_portfolio import classic_solve, classic_relaxed_solve\n",
    "\n",
    "classical_result = classic_solve(qp)\n",
    "print(classical_result.prettyprint())"
   ]
  },
  {
   "cell_type": "markdown",
   "id": "6498809d",
   "metadata": {},
   "source": [
    "# Adding penalty\n",
    "\n",
    "Following suit with our other notebooks we will transform the constrained problem into a QUBO"
   ]
  },
  {
   "cell_type": "code",
   "execution_count": 3,
   "id": "84271cf5",
   "metadata": {},
   "outputs": [
    {
     "name": "stdout",
     "output_type": "stream",
     "text": [
      "SparsePauliOp(['IIIIIZ', 'IIIIZI', 'IIIZII', 'IIZIII', 'IZIIII', 'ZIIIII', 'IIIIZZ', 'IIIZIZ', 'IIZIIZ', 'IZIIIZ', 'ZIIIIZ', 'IIIZZI', 'IIZIZI', 'IZIIZI', 'ZIIIZI', 'IIZZII', 'IZIZII', 'ZIIZII', 'IZZIII', 'ZIZIII', 'ZZIIII'],\n",
      "              coeffs=[ 0.455025+0.j, -0.60115 +0.j,  0.378625+0.j, -0.890325+0.j,  0.15975 +0.j,\n",
      " -0.37535 +0.j,  5.844175+0.j,  6.117225+0.j,  5.8637  +0.j,  5.99795 +0.j,\n",
      "  5.904775+0.j,  5.81155 +0.j,  6.616475+0.j,  5.981675+0.j,  6.223625+0.j,\n",
      "  5.647625+0.j,  6.000175+0.j,  5.892475+0.j,  6.0503  +0.j,  6.27305 +0.j,\n",
      "  6.037725+0.j])\n",
      "18.610925000000012\n"
     ]
    }
   ],
   "source": [
    "from experiments.cvar_portfolio.objective_portfolio import portfolio_add_penalty\n",
    "\n",
    "penalty = 12                                    #2 * n\n",
    "qp = portfolio_add_penalty(qp, penalty)\n",
    "hamiltonian, offset = qp.to_ising()  \n",
    "print(hamiltonian) \n",
    "print(offset)"
   ]
  },
  {
   "cell_type": "markdown",
   "id": "5b6c1e0c",
   "metadata": {},
   "source": [
    "## 🧠 Motivation: Why Warm-Start QAOA?\n",
    "\n",
    "QAOA can struggle to find high-quality solutions when starting from a random quantum state, especially at low circuit depths (`reps=1`). This is due to the \"flat\" nature of shallow QAOA circuits, which may not sufficiently explore the solution space.\n",
    "\n",
    "**Warm-starting** introduces prior knowledge by initializing the quantum state and mixer using a *relaxed version* of the original QUBO. The relaxed solution serves as a \"classical guide\" that helps steer the quantum optimization process toward promising regions.\n",
    "\n",
    "We first:\n",
    "1. Solve a continuous relaxation of the QUBO (e.g. convert binary variables to continuous [0, 1]).\n",
    "2. Use the relaxed solution to generate:\n",
    "   - A parameterized initial state\n",
    "   - A custom mixer Hamiltonian\n",
    "\n",
    "This improves the probability of sampling optimal solutions without increasing circuit depth.\n"
   ]
  },
  {
   "cell_type": "code",
   "execution_count": 4,
   "id": "ca5a6f26",
   "metadata": {},
   "outputs": [
    {
     "name": "stdout",
     "output_type": "stream",
     "text": [
      "Problem name: portfolio_optimization\n",
      "\n",
      "Maximize\n",
      "  -12.3656*x_0^2 - 23.3767*x_0*x_1 - 24.468899999999998*x_0*x_2\n",
      "  - 23.4548*x_0*x_3 - 23.991799999999998*x_0*x_4 - 23.6191*x_0*x_5\n",
      "  - 13.2366*x_1^2 - 23.2462*x_1*x_2 - 26.465899999999998*x_1*x_3\n",
      "  - 23.9267*x_1*x_4 - 24.8945*x_1*x_5 - 12.57715*x_2^2 - 22.5905*x_2*x_3\n",
      "  - 24.000700000000002*x_2*x_4 - 23.5699*x_2*x_5 - 13.75335*x_3^2\n",
      "  - 24.2012*x_3*x_4 - 25.0922*x_3*x_5 - 12.31155*x_4^2 - 24.1509*x_4*x_5\n",
      "  - 12.4496*x_5^2 + 72.7313*x_0 + 72.9893*x_1 + 72.2725*x_2 + 72.875*x_3\n",
      "  + 72.7667*x_4 + 72.3622*x_5 - 108\n",
      "\n",
      "Subject to\n",
      "  No constraints\n",
      "\n",
      "  Continuous variables (6)\n",
      "    0 <= x_0 <= 1\n",
      "    0 <= x_1 <= 1\n",
      "    0 <= x_2 <= 1\n",
      "    0 <= x_3 <= 1\n",
      "    0 <= x_4 <= 1\n",
      "    0 <= x_5 <= 1\n",
      "\n"
     ]
    }
   ],
   "source": [
    "from experiments.cvar_portfolio.warmstart_utils import relax_problem\n",
    "\n",
    "qp_relaxed = relax_problem(qp)\n",
    "print(qp_relaxed.prettyprint())"
   ]
  },
  {
   "cell_type": "markdown",
   "id": "9ae14169",
   "metadata": {},
   "source": [
    "# Find Classical Relaxed solution\n",
    "\n",
    "Here we generate the classically relaxed solution which will be used in order to derive the initial state and mixer"
   ]
  },
  {
   "cell_type": "code",
   "execution_count": 5,
   "id": "1484c6b8",
   "metadata": {},
   "outputs": [
    {
     "name": "stdout",
     "output_type": "stream",
     "text": [
      "Starting Point: [0.9999999152320116, 0.7391415120778059, 0.2632005179879656, 8.48819653053714e-08, 0.999999835965571, 2.034196502641857e-06]\n",
      "objective function value: 1.4542983375046958\n",
      "variable values: x_0=0.9999999152320116, x_1=0.7391415120778059, x_2=0.2632005179879656, x_3=8.48819653053714e-08, x_4=0.999999835965571, x_5=2.034196502641857e-06\n",
      "status: SUCCESS\n"
     ]
    }
   ],
   "source": [
    "classical_relaxed_result = classic_relaxed_solve(qp_relaxed)\n",
    "c_stars = classical_relaxed_result.samples[0].x\n",
    "\n",
    "print(f\"Starting Point: {c_stars}\")\n",
    "print(classical_relaxed_result.prettyprint())"
   ]
  },
  {
   "cell_type": "markdown",
   "id": "a4db9889",
   "metadata": {},
   "source": [
    "## 🧰 Generating Warm-Start Initial State and Mixer\n",
    "\n",
    "We now construct:\n",
    "- A **custom initial state** by applying `RY(θ)` rotations, where each angle is derived from the relaxed solution `c*`\n",
    "- A **custom mixer** that uses the same angles to constrain the evolution of the quantum state, preserving feasibility (e.g., total budget constraint)\n",
    "\n",
    "Mathematically:\n",
    "- `θ_i = 2 * arcsin(√c*_i)` ensures amplitudes align with continuous relaxations\n",
    "- The mixer ensures the initial state is an eigenstate of the mixer Hamiltonian, a key requirement for effective warm-starting\n",
    "\n",
    "These will be passed to the `QAOA` class along with `initial_point = [0.0, 1.0]`.\n"
   ]
  },
  {
   "cell_type": "code",
   "execution_count": 6,
   "id": "bfdce7ca",
   "metadata": {},
   "outputs": [],
   "source": [
    "from experiments.cvar_portfolio.warmstart_utils import generate_mixer_and_initial_state\n",
    "\n",
    "init_state, ws_mixer = generate_mixer_and_initial_state(c_stars, sigma)"
   ]
  },
  {
   "cell_type": "markdown",
   "id": "332ffa0a",
   "metadata": {},
   "source": [
    "## 📈 Analyzing QAOA Sample Distributions\n",
    "\n",
    "The `MinimumEigenOptimizer` returns a list of sampled bitstrings, each representing a possible portfolio configuration. By formatting and filtering these samples:\n",
    "\n",
    "- We can **rank** outcomes by their objective values\n",
    "- Identify **feasible solutions** (those that satisfy the budget constraint)\n",
    "- Compare **probabilities** of sampling the optimal state between standard and warm-start QAOA\n",
    "\n",
    "Below, we extract and display the top 10 feasible bitstrings.\n"
   ]
  },
  {
   "cell_type": "code",
   "execution_count": 8,
   "id": "37786cd3",
   "metadata": {},
   "outputs": [
    {
     "name": "stdout",
     "output_type": "stream",
     "text": [
      "alpha = 1.0:\n",
      "objective function value: 1.2783500000000174\n",
      "variable values: x_0=1.0, x_1=1.0, x_2=0.0, x_3=0.0, x_4=1.0, x_5=0.0\n",
      "status: SUCCESS\n",
      "['110010: value: 1.278, probability: 3.1%', '101010: value: 0.055, probability: 96.6%']\n",
      "\n",
      "alpha = 0.5:\n",
      "objective function value: 1.2783500000000174\n",
      "variable values: x_0=1.0, x_1=1.0, x_2=0.0, x_3=0.0, x_4=1.0, x_5=0.0\n",
      "status: SUCCESS\n",
      "['110010: value: 1.278, probability: 56.4%', '100011: value: 0.972, probability: 0.0%', '101010: value: 0.055, probability: 3.5%']\n",
      "\n",
      "alpha = 0.25:\n",
      "objective function value: 1.2783500000000174\n",
      "variable values: x_0=1.0, x_1=1.0, x_2=0.0, x_3=0.0, x_4=1.0, x_5=0.0\n",
      "status: SUCCESS\n",
      "['110010: value: 1.278, probability: 54.0%', '101010: value: 0.055, probability: 0.2%']\n",
      "\n"
     ]
    }
   ],
   "source": [
    "from qiskit_algorithms.optimizers import COBYLA\n",
    "from qiskit.primitives import Sampler\n",
    "from experiments.cvar_portfolio.objective_portfolio import solve_with_qaoa, format_qaoa_samples\n",
    "from qiskit.visualization import plot_histogram\n",
    "\n",
    "maxiter = 100\n",
    "optimizer = COBYLA(maxiter=maxiter)\n",
    "\n",
    "sampler = Sampler()\n",
    "\n",
    "alphas = [1.0, 0.50, 0.25]\n",
    "\n",
    "results, objectives = solve_with_qaoa(qp, sampler, optimizer, offset, alphas, 1, None, init_state, ws_mixer)\n",
    "\n",
    "for alpha in alphas:\n",
    "    print(\"alpha = {}:\".format(alpha))\n",
    "    print(results[alpha].prettyprint())\n",
    "    print(format_qaoa_samples(results[alpha].samples))\n",
    "    print()"
   ]
  },
  {
   "cell_type": "code",
   "execution_count": null,
   "id": "dab2086c",
   "metadata": {},
   "outputs": [
    {
     "data": {
      "image/png": "[encoded data removed]",
      "text/plain": [
       "<Figure size 1000x500 with 1 Axes>"
      ]
     },
     "metadata": {},
     "output_type": "display_data"
    }
   ],
   "source": [
    "from experiments.cvar_portfolio.plot_cvar_history import plot_cvar_convergence\n",
    "\n",
    "plot_cvar_convergence(\n",
    "    objectives,             # dict: {alpha: [objective values per iteration]}\n",
    "    classical_result.fval,  # float: classical optimum to plot as dashed line\n",
    "    maxiter,                # int: max number of optimization steps\n",
    "    \"CVaR Convergence\"      # str: optional plot title\n",
    ")"
   ]
  },
  {
   "cell_type": "markdown",
   "id": "2528c969",
   "metadata": {},
   "source": [
    "### 🔍 Summary: Warm-Start QAOA Trade-offs\n",
    "\n",
    "Warm-start QAOA significantly improves the probability of sampling optimal solutions by initializing the circuit with a solution from a **classically relaxed** version of the problem.\n",
    "\n",
    "- **Standard QAOA**: ~0.7% optimal sampling\n",
    "- **Warm-start QAOA**: ~79.7% optimal sampling\n",
    "\n",
    "This aligns with Egger et al. (2020), showing that warm-starting concentrates probability mass around good solutions — especially for shallow circuits (`reps=1`).\n",
    "\n",
    "#### 🧠 Overhead\n",
    "\n",
    "- Requires solving a **continuous QP** (convex, tractable).\n",
    "- Adds classical **preprocessing time** using solvers like CPLEX.\n",
    "- Balances low quantum depth with increased classical effort.\n",
    "\n",
    "#### ⚖️ When to Use\n",
    "\n",
    "| Feature                 | Standard QAOA | Warm-start QAOA     |\n",
    "|------------------------|---------------|----------------------|\n",
    "| Quantum depth required | Low           | Low                  |\n",
    "| Sampling quality       | Low           | High                 |\n",
    "| Classical effort       | None          | Moderate (QP solve)  |\n",
    "| Feasibility guidance   | Implicit      | Explicit via mixer   |\n",
    "\n",
    "Warm-start QAOA is ideal for **NISQ-era hybrid optimization**, leveraging classical structure to improve quantum performance without increasing quantum depth.\n"
   ]
  }
 ],
 "metadata": {
  "kernelspec": {
   "display_name": ".venv",
   "language": "python",
   "name": "python3"
  },
  "language_info": {
   "codemirror_mode": {
    "name": "ipython",
    "version": 3
   },
   "file_extension": ".py",
   "mimetype": "text/x-python",
   "name": "python",
   "nbconvert_exporter": "python",
   "pygments_lexer": "ipython3",
   "version": "3.9.6"
  }
 },
 "nbformat": 4,
 "nbformat_minor": 5
}
