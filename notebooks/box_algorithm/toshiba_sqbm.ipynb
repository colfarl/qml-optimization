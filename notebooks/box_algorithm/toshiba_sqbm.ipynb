{
 "cells": [
  {
   "cell_type": "code",
   "execution_count": null,
   "id": "1a0ce26f",
   "metadata": {},
   "outputs": [
    {
     "name": "stdout",
     "output_type": "stream",
     "text": [
      "Amplify SDK version: 1.3.1\n"
     ]
    }
   ],
   "source": [
    "import os\n",
    "import numpy as np\n",
    "import pandas as pd\n",
    "import matplotlib.pyplot as plt\n",
    "from dotenv import load_dotenv\n",
    "\n",
    "\n",
    "# Fixstars Amplify SDK\n",
    "import amplify\n",
    "from amplify import (\n",
    "    FixstarsClient, \n",
    "    VariableGenerator, \n",
    "    Model, \n",
    "    solve, \n",
    "    ToshibaSQBM2Client\n",
    ")\n",
    "\n",
    "# System tools\n",
    "import time\n",
    "import datetime\n",
    "\n",
    "# Fixstars AE credentials (if local)\n",
    "key = os.getenv(\"SQBM_KEY\")\n",
    "client = ToshibaSQBM2Client()\n",
    "client.token = key\n",
    "client.solver = \"Qubo\"\n",
    "\n",
    "## Toshiba has a maximum of ten seconds per job on free plan\n",
    "client.parameters.timeout = 1 # 1 second\n",
    "\n",
    "# Print SDK version\n",
    "print(f\"Amplify SDK version: {amplify.__version__}\")"
   ]
  },
  {
   "cell_type": "code",
   "execution_count": 5,
   "id": "dc7950a1",
   "metadata": {},
   "outputs": [
    {
     "name": "stdout",
     "output_type": "stream",
     "text": [
      "Design matrix X:\n",
      " [[1 1]\n",
      " [1 2]\n",
      " [1 3]]\n",
      "Target y:\n",
      " [2 3 5]\n"
     ]
    }
   ],
   "source": [
    "# Tiny linear regression example\n",
    "X_data = np.array([1, 2, 3])\n",
    "y_data = np.array([2, 3, 5])\n",
    "\n",
    "# Design matrix: add bias column\n",
    "X = np.vstack([np.ones_like(X_data), X_data]).T\n",
    "\n",
    "print(\"Design matrix X:\\n\", X)\n",
    "print(\"Target y:\\n\", y_data)"
   ]
  },
  {
   "cell_type": "code",
   "execution_count": 6,
   "id": "8aa53087",
   "metadata": {},
   "outputs": [
    {
     "name": "stdout",
     "output_type": "stream",
     "text": [
      "Normal equations:\n",
      "A:\n",
      " [[ 3  6]\n",
      " [ 6 14]]\n",
      "b: [10 23]\n",
      "Is A symmetric? True\n",
      "Eigenvalues: [ 0.3605897 16.6394103]\n"
     ]
    }
   ],
   "source": [
    "# Normal equations\n",
    "A = X.T @ X\n",
    "b = X.T @ y_data\n",
    "\n",
    "print(\"Normal equations:\")\n",
    "print(\"A:\\n\", A)\n",
    "print(\"b:\", b)\n",
    "\n",
    "# Check SPD\n",
    "print(\"Is A symmetric?\", np.allclose(A, A.T))\n",
    "print(\"Eigenvalues:\", np.linalg.eigvalsh(A))\n"
   ]
  },
  {
   "cell_type": "code",
   "execution_count": 7,
   "id": "16a3f9c6",
   "metadata": {},
   "outputs": [
    {
     "name": "stdout",
     "output_type": "stream",
     "text": [
      "Box Algorithm starting: dimension=2, beta=0.2, epsilon=1e-06\n"
     ]
    }
   ],
   "source": [
    "# Box Algorithm parameters\n",
    "d = A.shape[0]\n",
    "c = np.zeros(d)\n",
    "L = 1.0\n",
    "beta = 0.2\n",
    "epsilon = 1e-6\n",
    "max_iterations = 50\n",
    "\n",
    "best_energy = np.inf\n",
    "num_translations = 0\n",
    "num_contractions = 0\n",
    "\n",
    "# For stats\n",
    "total_wall_time = 0.0\n",
    "total_solver_time = 0.0\n",
    "\n",
    "print(f\"Box Algorithm starting: dimension={d}, beta={beta}, epsilon={epsilon}\")"
   ]
  },
  {
   "cell_type": "code",
   "execution_count": 8,
   "id": "953b1057",
   "metadata": {},
   "outputs": [
    {
     "ename": "RuntimeError",
     "evalue": "400: Bad Request, timeout too large\n",
     "output_type": "error",
     "traceback": [
      "\u001b[0;31m---------------------------------------------------------------------------\u001b[0m",
      "\u001b[0;31mRuntimeError\u001b[0m                              Traceback (most recent call last)",
      "Cell \u001b[0;32mIn[8], line 21\u001b[0m\n\u001b[1;32m     19\u001b[0m \u001b[38;5;66;03m# 5) Solve and time\u001b[39;00m\n\u001b[1;32m     20\u001b[0m wall_start \u001b[38;5;241m=\u001b[39m time\u001b[38;5;241m.\u001b[39mtime()\n\u001b[0;32m---> 21\u001b[0m result \u001b[38;5;241m=\u001b[39m \u001b[43msolve\u001b[49m\u001b[43m(\u001b[49m\u001b[43mmodel\u001b[49m\u001b[43m,\u001b[49m\u001b[43m \u001b[49m\u001b[43mclient\u001b[49m\u001b[43m)\u001b[49m\n\u001b[1;32m     22\u001b[0m wall_end \u001b[38;5;241m=\u001b[39m time\u001b[38;5;241m.\u001b[39mtime()\n\u001b[1;32m     24\u001b[0m wall_time \u001b[38;5;241m=\u001b[39m wall_end \u001b[38;5;241m-\u001b[39m wall_start\n",
      "\u001b[0;31mRuntimeError\u001b[0m: 400: Bad Request, timeout too large\n"
     ]
    }
   ],
   "source": [
    "L_history = []\n",
    "energy_history = []\n",
    "wall_time_history = []\n",
    "\n",
    "for iteration in range(1, max_iterations + 1):\n",
    "    gen = VariableGenerator()\n",
    "    q1 = gen.array(\"Binary\", d)\n",
    "    q2 = gen.array(\"Binary\", d)\n",
    "    \n",
    "    # 2) Express w in terms of q1, q2\n",
    "    w = c + L * (-2 * q1 + q2)\n",
    "    \n",
    "    # 3) Build energy\n",
    "    energy = 0.5 * (w @ (A @ w)) - b @ w\n",
    "    \n",
    "    # 4) Build model\n",
    "    model = Model(energy)\n",
    "    \n",
    "    # 5) Solve and time\n",
    "    wall_start = time.time()\n",
    "    result = solve(model, client)\n",
    "    wall_end = time.time()\n",
    "    \n",
    "    wall_time = wall_end - wall_start\n",
    "    response_time = result.response_time.total_seconds()\n",
    "    execution_time = result.execution_time.total_seconds()\n",
    "    \n",
    "    total_wall_time += wall_time\n",
    "    total_solver_time += execution_time\n",
    "    \n",
    "    if len(result) == 0:\n",
    "        print(f\"Iteration {iteration}: No feasible solution, stopping.\")\n",
    "        break\n",
    "    \n",
    "    solution = result.best\n",
    "    q1_sol = q1.evaluate(solution.values)\n",
    "    q2_sol = q2.evaluate(solution.values)\n",
    "    \n",
    "    w_new = c + L * (-2 * q1_sol + q2_sol)\n",
    "    energy_val = solution.objective\n",
    "\n",
    "    improved = energy_val < best_energy\n",
    "    \n",
    "    print(f\"Iter {iteration:2d} | E: {energy_val:.6f} | {'translate' if improved else 'contract'} | \"\n",
    "          f\"L: {L:.3e} | wall: {wall_time:.2f}s | solver: {execution_time:.2f}s\")\n",
    "    \n",
    "    if improved:\n",
    "        c = w_new  # translate box\n",
    "        best_energy = energy_val\n",
    "        num_translations += 1\n",
    "    else:\n",
    "        L = beta * L  # contract box\n",
    "        num_contractions += 1\n",
    "    \n",
    "    \n",
    "    L_history.append(L)\n",
    "    energy_history.append(energy_val)\n",
    "    wall_time_history.append(wall_time)\n",
    "    \n",
    "    # Stop if L tiny\n",
    "    if L < epsilon:\n",
    "        print(\"Converged: L below epsilon.\")\n",
    "        break\n",
    "\n",
    "print(\"\\nFinal estimated w:\", c)\n",
    "print(\"Direct solve w:\", np.linalg.solve(A, b))\n",
    "print(f\"Total translations: {num_translations}, contractions: {num_contractions}\")\n",
    "print(f\"Total wall time: {total_wall_time:.2f}s\")\n",
    "print(f\"Total solver time: {total_solver_time:.2f}s\")"
   ]
  },
  {
   "cell_type": "code",
   "execution_count": null,
   "id": "fc9dccc8",
   "metadata": {},
   "outputs": [],
   "source": [
    "import matplotlib.pyplot as plt\n",
    "\n",
    "if \"L_history\" not in locals():\n",
    "    print(\"No iteration history found! Please store L, energy, and wall time inside the loop next run.\")\n",
    "else:\n",
    "    fig, axes = plt.subplots(1, 3, figsize=(18, 4))\n",
    "\n",
    "    # --- Plot L ---\n",
    "    axes[0].plot(L_history, marker='o')\n",
    "    axes[0].set_title(\"Box Size L vs Iteration\")\n",
    "    axes[0].set_xlabel(\"Iteration\")\n",
    "    axes[0].set_ylabel(\"L\")\n",
    "    axes[0].set_yscale(\"log\")\n",
    "    axes[0].grid(True)\n",
    "\n",
    "    # --- Plot energy ---\n",
    "    axes[1].plot(energy_history, marker='o')\n",
    "    axes[1].set_title(\"Objective (Energy) vs Iteration\")\n",
    "    axes[1].set_xlabel(\"Iteration\")\n",
    "    axes[1].set_ylabel(\"Energy\")\n",
    "    axes[1].grid(True)\n",
    "\n",
    "    # --- Plot wall time ---\n",
    "    axes[2].plot(wall_time_history, marker='o')\n",
    "    axes[2].set_title(\"Wall Time per Solve\")\n",
    "    axes[2].set_xlabel(\"Iteration\")\n",
    "    axes[2].set_ylabel(\"Seconds\")\n",
    "    axes[2].grid(True)\n",
    "\n",
    "    plt.tight_layout()\n",
    "    plt.show()"
   ]
  }
 ],
 "metadata": {
  "kernelspec": {
   "display_name": ".venv",
   "language": "python",
   "name": "python3"
  },
  "language_info": {
   "codemirror_mode": {
    "name": "ipython",
    "version": 3
   },
   "file_extension": ".py",
   "mimetype": "text/x-python",
   "name": "python",
   "nbconvert_exporter": "python",
   "pygments_lexer": "ipython3",
   "version": "3.9.6"
  }
 },
 "nbformat": 4,
 "nbformat_minor": 5
}
